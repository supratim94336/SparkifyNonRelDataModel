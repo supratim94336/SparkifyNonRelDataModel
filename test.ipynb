{
 "cells": [
  {
   "cell_type": "code",
   "execution_count": 1,
   "metadata": {
    "collapsed": true
   },
   "outputs": [],
   "source": [
    "import pandas as pd\n",
    "import cassandra"
   ]
  },
  {
   "cell_type": "code",
   "execution_count": 2,
   "metadata": {},
   "outputs": [],
   "source": [
    "from cassandra.cluster import Cluster\n",
    "cluster = Cluster()\n",
    "\n",
    "# To establish connection and begin executing queries, need a session\n",
    "session = cluster.connect()\n",
    "\n",
    "# keyspace\n",
    "try:\n",
    "    session.execute(\"\"\"\n",
    "                    CREATE KEYSPACE IF NOT EXISTS sparkify \n",
    "                    WITH REPLICATION = \n",
    "                    { 'class' : 'SimpleStrategy', \n",
    "                      'replication_factor' : 1 }\n",
    "                    \"\"\")\n",
    "\n",
    "except Exception as e:\n",
    "    print(e)\n",
    "    \n",
    "# connect to keyspace\n",
    "try:\n",
    "    session.set_keyspace('sparkify')\n",
    "except Exception as e:\n",
    "    print(e)\n"
   ]
  },
  {
   "cell_type": "code",
   "execution_count": 3,
   "metadata": {},
   "outputs": [
    {
     "name": "stdout",
     "output_type": "stream",
     "text": [
      "Faithless Music Matters (Mark Knight Dub) 495.30731201171875\n"
     ]
    }
   ],
   "source": [
    "query = \"SELECT artist, song_title, song_duration FROM music_app_session_history WHERE session_id=338 AND item_in_session=4\"\n",
    "try:\n",
    "    rows = session.execute(query)\n",
    "except Exception as e:\n",
    "    print(e)\n",
    "    \n",
    "for row in rows:\n",
    "    print (row.artist, row.song_title, row.song_duration)"
   ]
  },
  {
   "cell_type": "code",
   "execution_count": 3,
   "metadata": {},
   "outputs": [
    {
     "name": "stdout",
     "output_type": "stream",
     "text": [
      "Faithless Music Matters (Mark Knight Dub) 495.30731201171875\n"
     ]
    }
   ],
   "source": [
    "query = \"SELECT artist, song_title, song_duration FROM music_app_session_history WHERE session_id=338 AND item_in_session=4\"\n",
    "try:\n",
    "    rows = session.execute(query)\n",
    "except Exception as e:\n",
    "    print(e)\n",
    "    \n",
    "for row in rows:\n",
    "    print (row.artist, row.song_title, row.song_duration)"
   ]
  },
  {
   "cell_type": "markdown",
   "metadata": {},
   "source": [
    "#### Reasons for creating the table: music_app_user_history\n",
    "##### Give me only the following: name of artist, song (sorted by itemInSession) and user (first and last name) for userid = 10, sessionid = 182\n",
    "- The query asks for particular columns (artist, song, user's first name, user's last name) given a particular user with *user_id* and in a particular session, with *session_id*, ordered by order in session with *item_in_session*\n",
    "- So, we had to design your table for this query and also for fast reads\n",
    "- As, two particular attributes are in 'WHERE' clause and we need to sort by another column, they (the combination of these three columns in order) were the first choices for 'PRIMARY KEY' as the combination of the two columns *user_id* and *session_id* will be used for partition and ordering based on *item_in_session*, so this will be the clustering column. Lastly combination of these three columns will create uniqueness needed for 'PRIMARY KEY' \n",
    "- The database construct\n",
    "```\n",
    "CREATE TABLE IF NOT EXISTS music_app_user_history\n",
    " (user_id int, session_id int, item_in_session int, artist text, \n",
    " song text, user_first_name text, user_last_name text, \n",
    " PRIMARY KEY ((user_id, session_id), item_in_session));\n",
    "```"
   ]
  },
  {
   "cell_type": "code",
   "execution_count": 4,
   "metadata": {},
   "outputs": [
    {
     "name": "stdout",
     "output_type": "stream",
     "text": [
      "Keep On Keepin' On Down To The Bone Sylvie Cruz\nGreece 2000 Three Drives Sylvie Cruz\nKilometer Sebastien Tellier Sylvie Cruz\nCatch You Baby (Steve Pitron & Max Sanna Radio Edit) Lonnie Gordon Sylvie Cruz\n"
     ]
    }
   ],
   "source": [
    "query = \"SELECT artist, song, user_first_name, user_last_name FROM music_app_user_history WHERE user_id=10 AND session_id=182\"\n",
    "try:\n",
    "    rows = session.execute(query)\n",
    "except Exception as e:\n",
    "    print(e)\n",
    "    \n",
    "for row in rows:\n",
    "    print (row.artist, row.song, row.user_first_name, row.user_last_name)\n"
   ]
  },
  {
   "cell_type": "markdown",
   "metadata": {},
   "source": [
    "#### Reasons for creating the table: music_app_song_history\n",
    "##### Give me every user name (first and last) in my music app history who listened to the song 'All Hands Against His Own'\n",
    "- The query asks for particular columns (users) with user's first name and user's last name given a particular song with *song*\n",
    "- So, we had to design your table for this query and also for fast reads\n",
    "- As, one particular column is in 'WHERE' clause, we need to have this column in the 'PRIMARY KEY' but then it will not be unique, so we need uniqueness in terms of users also, then the first choice is *user_id* because ultimately we need user's first name and last name in *user_first_name*, *user_last_name*\n",
    "- The database construct\n",
    "```\n",
    "CREATE TABLE IF NOT EXISTS music_app_song_history (song text, \n",
    " user_id int, user_first_name text, user_last_name text, \n",
    " PRIMARY KEY (song, user_id));\n",
    "```"
   ]
  },
  {
   "cell_type": "code",
   "execution_count": 5,
   "metadata": {},
   "outputs": [
    {
     "name": "stdout",
     "output_type": "stream",
     "text": [
      "Jacqueline Lynch\nTegan Levine\nSara Johnson\n"
     ]
    }
   ],
   "source": [
    "query = \"SELECT user_first_name, user_last_name from music_app_song_history WHERE song='All Hands Against His Own'\"\n",
    "try:\n",
    "    rows = session.execute(query)\n",
    "except Exception as e:\n",
    "    print(e)\n",
    "    \n",
    "for row in rows:\n",
    "    print (row.user_first_name + \" \" + row.user_last_name)"
   ]
  },
  {
   "cell_type": "code",
   "execution_count": null,
   "metadata": {},
   "outputs": [],
   "source": []
  }
 ],
 "metadata": {
  "kernelspec": {
   "display_name": "Python 2",
   "language": "python",
   "name": "python2"
  },
  "language_info": {
   "codemirror_mode": {
    "name": "ipython",
    "version": 2
   },
   "file_extension": ".py",
   "mimetype": "text/x-python",
   "name": "python",
   "nbconvert_exporter": "python",
   "pygments_lexer": "ipython2",
   "version": "2.7.6"
  }
 },
 "nbformat": 4,
 "nbformat_minor": 0
}

{
 "cells": [
  {
   "cell_type": "code",
   "execution_count": 17,
   "metadata": {},
   "outputs": [],
   "source": [
    "import pandas as pd\n",
    "import cassandra\n",
    "from prettytable import PrettyTable"
   ]
  },
  {
   "cell_type": "code",
   "execution_count": 18,
   "metadata": {},
   "outputs": [],
   "source": [
    "from cassandra.cluster import Cluster\n",
    "cluster = Cluster()\n",
    "\n",
    "# To establish connection and begin executing queries, need a session\n",
    "session = cluster.connect()\n",
    "\n",
    "# keyspace\n",
    "try:\n",
    "    session.execute(\"\"\"\n",
    "                    CREATE KEYSPACE IF NOT EXISTS sparkify \n",
    "                    WITH REPLICATION = \n",
    "                    { 'class' : 'SimpleStrategy', \n",
    "                      'replication_factor' : 1 }\n",
    "                    \"\"\")\n",
    "\n",
    "except Exception as e:\n",
    "    print(e)\n",
    "    \n",
    "# connect to keyspace\n",
    "try:\n",
    "    session.set_keyspace('sparkify')\n",
    "except Exception as e:\n",
    "    print(e)\n"
   ]
  },
  {
   "cell_type": "markdown",
   "metadata": {},
   "source": [
    "#### Reasons for creating the table: music_app_session_history\n",
    "##### Query:  Give me the artist, song title and song's length in the music app history that was heard during sessionId = 338, and itemInSession = 4\n",
    "- The query asks for particular columns (artist, song, song's duration) given a particular session with *session_id* and order of the event in a particular session, with *item_in_session*\n",
    "- So, we had to design your table for this query and also for fast reads\n",
    "- As, two particular attributes are in 'WHERE' clause, they (the combination of both in order) were the first choices for 'PRIMARY KEY' as the combination will be unique in order to create proper partitions based on *session_id* and clustering based on *item_in_session*\n",
    "- The database construct:\n",
    "```\n",
    "    CREATE TABLE IF NOT EXISTS music_app_session_history \n",
    "    (session_id int, item_in_session int, artist text, song_title text, \n",
    "     song_duration float, PRIMARY KEY (session_id, item_in_session));\n",
    "```"
   ]
  },
  {
   "cell_type": "code",
   "execution_count": 19,
   "metadata": {},
   "outputs": [
    {
     "name": "stdout",
     "output_type": "stream",
     "text": [
      "+-----------+---------------------------------+--------------------+\n|   Artist  |               Song              |       Length       |\n+-----------+---------------------------------+--------------------+\n| Faithless | Music Matters (Mark Knight Dub) | 495.30731201171875 |\n+-----------+---------------------------------+--------------------+\n"
     ]
    }
   ],
   "source": [
    "query = \"SELECT artist, song_title, song_duration \" \\\n",
    "        \"FROM music_app_session_history \" \\\n",
    "        \"WHERE session_id=338 AND item_in_session=4\"\n",
    "try:\n",
    "    rows = session.execute(query)\n",
    "except Exception as e:\n",
    "    print(e)\n",
    "\n",
    "t = PrettyTable(['Artist', 'Song', 'Length'])\n",
    "\n",
    "for row in rows:\n",
    "    t.add_row([row.artist, row.song_title, row.song_duration])\n",
    "\n",
    "print(t)\n"
   ]
  },
  {
   "cell_type": "markdown",
   "metadata": {},
   "source": [
    "#### Reasons for creating the table: music_app_user_history\n",
    "##### Give me only the following: name of artist, song (sorted by itemInSession) and user (first and last name) for userid = 10, sessionid = 182\n",
    "- The query asks for particular columns (artist, song, user's first name, user's last name) given a particular user with *user_id* and in a particular session, with *session_id*, ordered by order in session with *item_in_session*\n",
    "- So, we had to design your table for this query and also for fast reads\n",
    "- As, two particular attributes are in 'WHERE' clause and we need to sort by another column, they (the combination of these three columns in order) were the first choices for 'PRIMARY KEY' as the combination of the two columns *user_id* and *session_id* will be used for partition and ordering based on *item_in_session*, so this will be the clustering column. Lastly combination of these three columns will create uniqueness needed for 'PRIMARY KEY' \n",
    "- The database construct\n",
    "```\n",
    "CREATE TABLE IF NOT EXISTS music_app_user_history\n",
    " (user_id int, session_id int, item_in_session int, artist text, \n",
    " song text, user_first_name text, user_last_name text, \n",
    " PRIMARY KEY ((user_id, session_id), item_in_session));\n",
    "```"
   ]
  },
  {
   "cell_type": "code",
   "execution_count": 20,
   "metadata": {},
   "outputs": [
    {
     "name": "stdout",
     "output_type": "stream",
     "text": [
      "+-------------------+------------------------------------------------------+-------------+\n|       Artist      |                         Song                         |     User    |\n+-------------------+------------------------------------------------------+-------------+\n|  Down To The Bone |                  Keep On Keepin' On                  | Sylvie Cruz |\n|    Three Drives   |                     Greece 2000                      | Sylvie Cruz |\n| Sebastien Tellier |                      Kilometer                       | Sylvie Cruz |\n|   Lonnie Gordon   | Catch You Baby (Steve Pitron & Max Sanna Radio Edit) | Sylvie Cruz |\n+-------------------+------------------------------------------------------+-------------+\n"
     ]
    }
   ],
   "source": [
    "query = \"SELECT artist, song_title, user_first_name, user_last_name \" \\\n",
    "        \"FROM music_app_user_history \" \\\n",
    "        \"WHERE user_id=10 AND session_id=182\"\n",
    "try:\n",
    "    rows = session.execute(query)\n",
    "except Exception as e:\n",
    "    print(e)\n",
    "\n",
    "t = PrettyTable(['Artist', 'Song', 'User'])\n",
    " \n",
    "for row in rows:\n",
    "    t.add_row([row.artist, row.song_title, row.user_first_name + ' ' + row.user_last_name])\n",
    "\n",
    "print(t)\n"
   ]
  },
  {
   "cell_type": "markdown",
   "metadata": {},
   "source": [
    "#### Reasons for creating the table: music_app_song_history\n",
    "##### Give me every user name (first and last) in my music app history who listened to the song 'All Hands Against His Own'\n",
    "- The query asks for particular columns (users) with user's first name and user's last name given a particular song with *song*\n",
    "- So, we had to design your table for this query and also for fast reads\n",
    "- As, one particular column is in 'WHERE' clause, we need to have this column in the 'PRIMARY KEY' but then it will not be unique, so we need uniqueness in terms of users also, then the first choice is *user_id* because ultimately we need user's first name and last name in *user_first_name*, *user_last_name*\n",
    "- The database construct\n",
    "```\n",
    "CREATE TABLE IF NOT EXISTS music_app_song_history (song text, \n",
    " user_id int, user_first_name text, user_last_name text, \n",
    " PRIMARY KEY (song, user_id));\n",
    "```"
   ]
  },
  {
   "cell_type": "code",
   "execution_count": 21,
   "metadata": {},
   "outputs": [
    {
     "name": "stdout",
     "output_type": "stream",
     "text": [
      "+------------------+\n|       User       |\n+------------------+\n| Jacqueline Lynch |\n|   Tegan Levine   |\n|   Sara Johnson   |\n+------------------+\n"
     ]
    }
   ],
   "source": [
    "query = \"SELECT user_first_name, user_last_name \" \\\n",
    "        \"FROM music_app_song_history \" \\\n",
    "        \"WHERE song_title='All Hands Against His Own'\"\n",
    "try:\n",
    "    rows = session.execute(query)\n",
    "except Exception as e:\n",
    "    print(e)\n",
    "\n",
    "t = PrettyTable(['User'])\n",
    "\n",
    "for row in rows:\n",
    "    t.add_row([row.user_first_name + \" \" + row.user_last_name])\n",
    "\n",
    "print(t)\n"
   ]
  },
  {
   "cell_type": "markdown",
   "metadata": {},
   "source": [
    "##### Close the session and cluster connection"
   ]
  },
  {
   "cell_type": "code",
   "execution_count": 23,
   "metadata": {},
   "outputs": [],
   "source": [
    "session.shutdown()\n",
    "cluster.shutdown()"
   ]
  },
  {
   "cell_type": "code",
   "execution_count": null,
   "metadata": {},
   "outputs": [],
   "source": []
  }
 ],
 "metadata": {
  "kernelspec": {
   "display_name": "Python 3",
   "language": "python",
   "name": "python3"
  },
  "language_info": {
   "codemirror_mode": {
    "name": "ipython",
    "version": 3
   },
   "file_extension": ".py",
   "mimetype": "text/x-python",
   "name": "python",
   "nbconvert_exporter": "python",
   "pygments_lexer": "ipython3",
   "version": "3.6.8"
  }
 },
 "nbformat": 4,
 "nbformat_minor": 1
}
